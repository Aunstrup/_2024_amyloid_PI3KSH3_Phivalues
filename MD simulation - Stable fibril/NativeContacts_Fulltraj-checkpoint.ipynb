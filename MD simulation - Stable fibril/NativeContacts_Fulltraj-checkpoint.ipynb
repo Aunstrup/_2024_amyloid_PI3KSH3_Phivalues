version https://git-lfs.github.com/spec/v1
oid sha256:7e0dc634f09d54249abca4700c40ed59df4d9f1817ffef4e608d4c0fd5076d1e
size 1021
